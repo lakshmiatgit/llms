{
 "cells": [
  {
   "cell_type": "markdown",
   "id": "fe12c203-e6a6-452c-a655-afb8a03a4ff5",
   "metadata": {},
   "source": [
    "# End of week 1 exercise\n",
    "\n",
    "To demonstrate your familiarity with OpenAI API, and also Ollama, build a tool that takes a technical question,  \n",
    "and responds with an explanation. This is a tool that you will be able to use yourself during the course!"
   ]
  },
  {
   "cell_type": "code",
   "execution_count": 25,
   "id": "c1070317-3ed9-4659-abe3-828943230e03",
   "metadata": {},
   "outputs": [],
   "source": [
    "# imports\n",
    "import os\n",
    "import requests\n",
    "from dotenv import load_dotenv\n",
    "from openai import OpenAI\n",
    "import ollama"
   ]
  },
  {
   "cell_type": "code",
   "execution_count": 5,
   "id": "4a456906-915a-4bfd-bb9d-57e505c5093f",
   "metadata": {},
   "outputs": [],
   "source": [
    "# constants\n",
    "\n",
    "MODEL_GPT = 'gpt-4o-mini'\n",
    "\n",
    "OLLAMA_API = \"http://localhost:11434/api/chat\"\n",
    "HEADERS = {\"Content-Type\": \"application/json\"}\n",
    "MODEL_LLAMA = 'llama3.2'"
   ]
  },
  {
   "cell_type": "code",
   "execution_count": 6,
   "id": "a8d7923c-5f28-4c30-8556-342d7c8497c1",
   "metadata": {},
   "outputs": [
    {
     "name": "stdout",
     "output_type": "stream",
     "text": [
      "API key looks good so far\n"
     ]
    }
   ],
   "source": [
    "# set up environment\n",
    "load_dotenv(override=True)\n",
    "api_key = os.getenv('OPENAI_API_KEY')\n",
    "\n",
    "if api_key and api_key.startswith('sk-proj-') and len(api_key)>10:\n",
    "    print(\"API key looks good so far\")\n",
    "else:\n",
    "    print(\"There might be a problem with your API key\")    \n"
   ]
  },
  {
   "cell_type": "code",
   "execution_count": 7,
   "id": "3f0d0137-52b0-47a8-81a8-11a90a010798",
   "metadata": {},
   "outputs": [],
   "source": [
    "# here is the question; type over this to ask something new\n",
    "system_prompt = \"You are an expert on topics of AI and software engineering.\"\n",
    "\n",
    "question = \"\"\"\n",
    "Please explain what this code does and why:\n",
    "yield from {book.get(\"author\") for book in books if book.get(\"author\")}\n",
    "\"\"\""
   ]
  },
  {
   "cell_type": "code",
   "execution_count": 19,
   "id": "60ce7000-a4a5-4cce-a261-e75ef45063b4",
   "metadata": {},
   "outputs": [],
   "source": [
    "# Get gpt-4o-mini to answer, with streaming\n",
    "openai = OpenAI()\n",
    "stream = openai.chat.completions.create(\n",
    "    model=MODEL_GPT,\n",
    "    messages=[\n",
    "        {\"role\": \"system\", \"content\": system_prompt},\n",
    "        {\"role\": \"user\", \"content\": question}\n",
    "    ],\n",
    "    stream=True\n",
    ")\n",
    "\n",
    "result = \"\"\n",
    "for chunk in stream:\n",
    "    result += chunk.choices[0].delta.content or ''"
   ]
  },
  {
   "cell_type": "code",
   "execution_count": 20,
   "id": "be9614d1-3fa6-4e8f-86a5-7241a4935265",
   "metadata": {},
   "outputs": [
    {
     "name": "stdout",
     "output_type": "stream",
     "text": [
      "The code snippet you provided uses the `yield from` syntax along with a set comprehension. This code is typically found inside a generator function and serves a specific purpose. Let's break down the components:\n",
      "\n",
      "1. **Generator Function**: The `yield` keyword indicates that this code is part of a generator function. A generator function is a special type of function that returns an iterator. Unlike a regular function that returns a single value, a generator can yield multiple values one at a time, allowing you to iterate through them.\n",
      "\n",
      "2. **Set Comprehension**:\n",
      "   - `{book.get(\"author\") for book in books if book.get(\"author\")}`: This is a set comprehension that creates a set of authors from a collection of `books`.\n",
      "   - `book.get(\"author\")`: This attempts to retrieve the value associated with the key `\"author\"` from each `book` dictionary.\n",
      "   - `for book in books`: This iterates over the `books` collection.\n",
      "   - `if book.get(\"author\")`: This condition filters the books to only include those that have a non-`None` value for the `\"author\"` key. If the key does not exist or the value is `None`, that book is ignored.\n",
      "   - The result of the set comprehension is a set of unique authors derived from the `books`.\n",
      "\n",
      "3. **`yield from`**:\n",
      "   - The `yield from` expression yields all the values from the iterable that follows it, which in this case is the result of the set comprehension. This means that it yields each unique author one at a time.\n",
      "\n",
      "### Purpose\n",
      "The overall purpose of the code is to create a generator that yields unique authors from a list (or another iterable) of book dictionaries, ignoring any books that do not have an author specified. This can be particularly useful for processing or displaying a unique list of authors without duplicates.\n",
      "\n",
      "### Example Usage\n",
      "If you have a collection of book dictionaries like so:\n",
      "\n",
      "```python\n",
      "books = [\n",
      "    {\"title\": \"Book 1\", \"author\": \"Author A\"},\n",
      "    {\"title\": \"Book 2\", \"author\": \"Author B\"},\n",
      "    {\"title\": \"Book 3\"},  # No author\n",
      "    {\"title\": \"Book 4\", \"author\": \"Author A\"},  # Duplicate\n",
      "]\n",
      "```\n",
      "Using the generator function that contains your code snippet would yield:\n",
      "- \"Author A\"\n",
      "- \"Author B\"\n",
      "\n",
      "In this context, the output would consist of the unique authors, skipping any entries without an author.\n"
     ]
    }
   ],
   "source": [
    "print(result)"
   ]
  },
  {
   "cell_type": "code",
   "execution_count": 21,
   "id": "fda65974-2820-4067-a4a7-460f03326e59",
   "metadata": {},
   "outputs": [
    {
     "name": "stdout",
     "output_type": "stream",
     "text": [
      "\u001b[?2026h\u001b[?25l\u001b[1Gpulling manifest ⠋ \u001b[K\u001b[?25h\u001b[?2026l\u001b[?2026h\u001b[?25l\u001b[1Gpulling manifest ⠙ \u001b[K\u001b[?25h\u001b[?2026l\u001b[?2026h\u001b[?25l\u001b[1Gpulling manifest ⠹ \u001b[K\u001b[?25h\u001b[?2026l\u001b[?2026h\u001b[?25l\u001b[1Gpulling manifest \u001b[K\n",
      "pulling dde5aa3fc5ff: 100% ▕██████████████████▏ 2.0 GB                         \u001b[K\n",
      "pulling 966de95ca8a6: 100% ▕██████████████████▏ 1.4 KB                         \u001b[K\n",
      "pulling fcc5a6bec9da: 100% ▕██████████████████▏ 7.7 KB                         \u001b[K\n",
      "pulling a70ff7e570d9: 100% ▕██████████████████▏ 6.0 KB                         \u001b[K\n",
      "pulling 56bb8bd477a5: 100% ▕██████████████████▏   96 B                         \u001b[K\n",
      "pulling 34bb5ab01051: 100% ▕██████████████████▏  561 B                         \u001b[K\n",
      "verifying sha256 digest \u001b[K\n",
      "writing manifest \u001b[K\n",
      "success \u001b[K\u001b[?25h\u001b[?2026l\n"
     ]
    }
   ],
   "source": [
    "# Make sure the model is loaded\n",
    "!ollama pull llama3.2"
   ]
  },
  {
   "cell_type": "code",
   "execution_count": 26,
   "id": "9d0ed253-0759-441d-97f7-8bc8bd2a1b5e",
   "metadata": {},
   "outputs": [
    {
     "name": "stdout",
     "output_type": "stream",
     "text": [
      "This line of code is using a feature called \"generator expressions\" or \"yield from\" in Python.\n",
      "\n",
      "Let's break it down:\n",
      "\n",
      "- `yield from`: This keyword is used to delegate iteration over another iterable (like a generator or an iterator) to the inner expression. It allows us to create complex iterators that can yield values from multiple sources.\n",
      "\n",
      "- `{...}`: This is called a dictionary comprehension, but in this case, it's not actually creating a dictionary. Instead, it's using a syntax similar to one used in list comprehensions.\n",
      "\n",
      "- `for book in books`: This is iterating over an iterable (in this case, likely a list or other sequence of objects) called `books`.\n",
      "\n",
      "- `if book.get(\"author\")`: Before yielding each author name, the code checks if the current book object has an \"author\" key and its value is not None.\n",
      "\n",
      "- `\"author\"`: This is the key being accessed from the `book` dictionary. \n",
      "\n",
      "So overall, this line of code yields all authors whose books are in the `books` collection.\n",
      "\n",
      "Here's a more readable version of the same line:\n",
      "\n",
      "```python\n",
      "for author in (book.get(\"author\") for book in books if book.get(\"author\")):\n",
      "    yield author\n",
      "```\n",
      "\n",
      "However, be aware that using `yield from` can often make your code easier to read and understand.\n"
     ]
    }
   ],
   "source": [
    "# Get Llama 3.2 to answer\n",
    "\n",
    "response = ollama.chat(model=MODEL_LLAMA, messages=messages)\n",
    "reply = response['message']['content']\n",
    "print(reply)"
   ]
  },
  {
   "cell_type": "code",
   "execution_count": null,
   "id": "21920380-3fd0-4fb9-ac62-abe8d634a76e",
   "metadata": {},
   "outputs": [],
   "source": []
  }
 ],
 "metadata": {
  "kernelspec": {
   "display_name": "Python 3 (ipykernel)",
   "language": "python",
   "name": "python3"
  },
  "language_info": {
   "codemirror_mode": {
    "name": "ipython",
    "version": 3
   },
   "file_extension": ".py",
   "mimetype": "text/x-python",
   "name": "python",
   "nbconvert_exporter": "python",
   "pygments_lexer": "ipython3",
   "version": "3.11.13"
  }
 },
 "nbformat": 4,
 "nbformat_minor": 5
}
