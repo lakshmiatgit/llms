{
 "cells": [
  {
   "cell_type": "code",
   "execution_count": 1,
   "id": "6de38216-6d1c-48c4-877b-86d403f4e0f8",
   "metadata": {},
   "outputs": [],
   "source": [
    "# imports\n",
    "import os\n",
    "import requests\n",
    "from bs4 import BeautifulSoup\n",
    "from IPython.display import Markdown, display\n",
    "import ollama\n",
    "\n"
   ]
  },
  {
   "cell_type": "code",
   "execution_count": 2,
   "id": "7420b6f1-e799-4b04-ba5a-4fcfa6ecd399",
   "metadata": {},
   "outputs": [],
   "source": [
    "# Some websites need you to use proper headers when fetching them:\n",
    "headers = {\n",
    " \"User-Agent\": \"Mozilla/5.0 (Windows NT 10.0; Win64; x64) AppleWebKit/537.36 (KHTML, like Gecko) Chrome/117.0.0.0 Safari/537.36\"\n",
    "}\n",
    "\n",
    "class Website:\n",
    "\n",
    "    def __init__(self, url):\n",
    "        \"\"\"\n",
    "        Create this Website object from the given url using the BeautifulSoup library\n",
    "        \"\"\"\n",
    "        self.url = url\n",
    "        response = requests.get(url, headers=headers)\n",
    "        soup = BeautifulSoup(response.content, 'html.parser')\n",
    "        self.title = soup.title.string if soup.title else \"No title found\"\n",
    "        for irrelevant in soup.body([\"script\", \"style\", \"img\", \"input\"]):\n",
    "            irrelevant.decompose()\n",
    "        self.text = soup.body.get_text(separator=\"\\n\", strip=True)"
   ]
  },
  {
   "cell_type": "code",
   "execution_count": 3,
   "id": "7e04bf26-b880-4788-b6e9-88e80d52105b",
   "metadata": {},
   "outputs": [],
   "source": [
    "ed = Website(\"https://aws.amazon.com/what-is-aws/?nc1=f_cc&ams%23interactive-card-vertical%23pattern-data.filter=%257B%2522filters%2522%253A%255B%255D%257D\")\n"
   ]
  },
  {
   "cell_type": "code",
   "execution_count": 4,
   "id": "7e04455d-3fc3-430d-a75b-b9db0342fcd8",
   "metadata": {},
   "outputs": [],
   "source": [
    "system_prompt = \"You are an assistant that analyzes the contents of a website \\\n",
    "and provides a short summary, ignoring text that might be navigation related. \\\n",
    "Respond in markdown.\""
   ]
  },
  {
   "cell_type": "code",
   "execution_count": 5,
   "id": "f67e87a9-487c-43e6-aa43-1153a73055c7",
   "metadata": {},
   "outputs": [],
   "source": [
    "def user_prompt_for(website):\n",
    "    user_prompt = f\"You are looking at a website titled {website.title}\"\n",
    "    user_prompt += \"\\nThe contents of this website is as follows; \\\n",
    "please provide a short summary of this website in markdown. \\\n",
    "If it includes news or announcements, then summarize these too.\\n\\n\"\n",
    "    user_prompt += website.text\n",
    "    return user_prompt"
   ]
  },
  {
   "cell_type": "code",
   "execution_count": 6,
   "id": "929311ad-124b-49a3-ae3d-990df8f08814",
   "metadata": {},
   "outputs": [],
   "source": [
    "def messages_for(website):\n",
    "    return [\n",
    "        {\"role\": \"system\", \"content\": system_prompt},\n",
    "        {\"role\": \"user\", \"content\": user_prompt_for(website)}\n",
    "    ]"
   ]
  },
  {
   "cell_type": "code",
   "execution_count": 7,
   "id": "517395db-c843-41c2-9a25-5c92425ffbc8",
   "metadata": {},
   "outputs": [],
   "source": [
    "OLLAMA_API = \"http://localhost:11434/api/chat\"\n",
    "HEADERS = {\"Content-Type\": \"application/json\"}\n",
    "MODEL = \"llama3.2\""
   ]
  },
  {
   "cell_type": "code",
   "execution_count": 9,
   "id": "c847c374-76fb-4aea-8f6d-02940412cf10",
   "metadata": {},
   "outputs": [],
   "source": [
    "def summarize(url):\n",
    "    website = Website(url)\n",
    "    response = ollama.chat(model=MODEL, messages=messages_for(website))\n",
    "    return response['message']['content']\n"
   ]
  },
  {
   "cell_type": "code",
   "execution_count": 10,
   "id": "844ab6e5-e1b6-4019-a40e-17e02d04070d",
   "metadata": {},
   "outputs": [
    {
     "data": {
      "text/plain": [
       "'**Summary of What is AWS? - Cloud Computing with AWS**\\n\\nAWS (Amazon Web Services) is a comprehensive cloud computing platform offering over 200 fully featured services from data centers globally. It provides a flexible and secure environment for customers to lower costs, become more agile, and innovate faster.\\n\\n**Key Features:**\\n\\n* Most functionality and features compared to other cloud providers\\n* Largest community of customers and partners worldwide\\n* Deepest functionality within its services\\n* Largest global infrastructure with 117 Availability Zones in 37 Geographic Regions\\n* Fastest pace of innovation with new technologies such as serverless computing and machine learning\\n\\n**Security:**\\n\\n* Most secure cloud computing environment available today, backed by a deep set of cloud security tools\\n* Compliance with over 300 security standards and certifications\\n\\n**Customer Stories:**\\n\\nAWS has recognized as the Magic Quadrant Leader for Strategic Cloud Platform Services for the 13th straight year. It has also been delivering cloud services to millions of customers worldwide.\\n\\n**Services:**\\n\\n* Over 200 fully featured services, including infrastructure technologies, emerging technologies, and databases\\n* Pricing model is pay-as-you-go\\n\\n**Announcements:**\\n\\n* AWS plans to expand its global infrastructure with 13 more Availability Zones and 4 more regions in New Zealand, the Kingdom of Saudi Arabia, Chile, and the European Sovereign Cloud.'"
      ]
     },
     "execution_count": 10,
     "metadata": {},
     "output_type": "execute_result"
    }
   ],
   "source": [
    "summarize(\"https://aws.amazon.com/what-is-aws/?nc1=f_cc&ams%23interactive-card-vertical%23pattern-data.filter=%257B%2522filters%2522%253A%255B%255D%257D\")"
   ]
  },
  {
   "cell_type": "code",
   "execution_count": 11,
   "id": "6675031c-3a20-44eb-9487-459cc705170b",
   "metadata": {},
   "outputs": [],
   "source": [
    "def display_summary(url):\n",
    "    summary = summarize(url)\n",
    "    display(Markdown(summary))"
   ]
  },
  {
   "cell_type": "code",
   "execution_count": 12,
   "id": "fca6cc61-bb1d-40bd-b009-25b5ac1403be",
   "metadata": {},
   "outputs": [
    {
     "data": {
      "text/markdown": [
       "**Summary of the Website**\n",
       "\n",
       "The website is owned by Edward Donner, a CTO and co-founder of Nebula.io. The main focus of the website appears to be promoting his work with Large Language Models (LLMs) in the field of talent management.\n",
       "\n",
       "### News and Announcements\n",
       "\n",
       "* **Upcoming Courses**: \"Connecting my courses – become an LLM expert and leader\" (May 28, 2025)\n",
       "* **2025 AI Executive Briefing** (April 21, 2025)\n",
       "* **The Complete Agentic AI Engineering Course** (January 23, 2025)\n",
       "* **LLM Workshop – Hands-on with Agents – resources** (No specific date mentioned)\n",
       "\n",
       "### About the Creator\n",
       "\n",
       "Edward Donner is a developer and enthusiast of LLMs. He also has experience as the founder and CEO of an AI startup called untapt, which was acquired in 2021."
      ],
      "text/plain": [
       "<IPython.core.display.Markdown object>"
      ]
     },
     "metadata": {},
     "output_type": "display_data"
    }
   ],
   "source": [
    "display_summary(\"https://edwarddonner.com\")"
   ]
  },
  {
   "cell_type": "code",
   "execution_count": null,
   "id": "d3dcdf6f-434a-40de-b589-7b5c538236e1",
   "metadata": {},
   "outputs": [],
   "source": []
  }
 ],
 "metadata": {
  "kernelspec": {
   "display_name": "Python 3 (ipykernel)",
   "language": "python",
   "name": "python3"
  },
  "language_info": {
   "codemirror_mode": {
    "name": "ipython",
    "version": 3
   },
   "file_extension": ".py",
   "mimetype": "text/x-python",
   "name": "python",
   "nbconvert_exporter": "python",
   "pygments_lexer": "ipython3",
   "version": "3.11.13"
  }
 },
 "nbformat": 4,
 "nbformat_minor": 5
}
